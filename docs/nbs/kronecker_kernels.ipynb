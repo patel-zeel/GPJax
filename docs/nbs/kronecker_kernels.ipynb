{
 "cells": [
  {
   "cell_type": "code",
   "execution_count": null,
   "metadata": {},
   "outputs": [],
   "source": [
    "import jax.numpy as jnp\n",
    "import jax.random as jr\n",
    "key = jr.PRNGKey(123)"
   ]
  },
  {
   "cell_type": "code",
   "execution_count": null,
   "metadata": {},
   "outputs": [],
   "source": [
    "matrices = []\n",
    "n = 25\n",
    "for _ in range(3):\n",
    "    key, subkey = jr.split(key)\n",
    "    matrices.append(jr.normal(subkey, shape=(n, n)))"
   ]
  },
  {
   "cell_type": "code",
   "execution_count": null,
   "metadata": {},
   "outputs": [],
   "source": [
    "from jax.lax import scan\n",
    "from functools import reduce\n",
    "from jax import jit\n",
    "\n",
    "def kron_compute(matrix_set):\n",
    "    return reduce(jnp.kron, matrix_set)"
   ]
  },
  {
   "cell_type": "code",
   "execution_count": null,
   "metadata": {},
   "outputs": [],
   "source": [
    "%timeit kron_compute(matrices)"
   ]
  },
  {
   "cell_type": "code",
   "execution_count": null,
   "metadata": {},
   "outputs": [],
   "source": [
    "from jax import jit\n",
    "kron_compute_jit = jit(kron_compute)\n",
    "_ = kron_compute_jit(matrices)"
   ]
  },
  {
   "cell_type": "code",
   "execution_count": null,
   "metadata": {},
   "outputs": [],
   "source": [
    "%timeit kron_compute_jit(matrices).block_until_ready()"
   ]
  },
  {
   "cell_type": "code",
   "execution_count": null,
   "metadata": {},
   "outputs": [],
   "source": [
    "# https://github.com/google/jax/discussions/9505"
   ]
  }
 ],
 "metadata": {
  "kernelspec": {
   "display_name": "Python 3.9.7 ('gpjax')",
   "language": "python",
   "name": "python3"
  },
  "language_info": {
   "codemirror_mode": {
    "name": "ipython",
    "version": 3
   },
   "file_extension": ".py",
   "mimetype": "text/x-python",
   "name": "python",
   "nbconvert_exporter": "python",
   "pygments_lexer": "ipython3",
   "version": "3.9.7"
  },
  "vscode": {
   "interpreter": {
    "hash": "920091140e6b97de16b405af485d142952a229f5dad61a888f46227f5acb94cf"
   }
  }
 },
 "nbformat": 4,
 "nbformat_minor": 2
}

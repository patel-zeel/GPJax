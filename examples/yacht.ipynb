{
 "cells": [
  {
   "cell_type": "markdown",
   "metadata": {},
   "source": [
    "# UCI Data Benchmarking\n",
    "\n",
    "In this notebook we'll demonstrate the use of GPJax on a benchmark UCI regression problem. Such tasks are commonly used within the research community to benchmark and evaluate new techniques against those already present in the literature. Much of the code contained in this notebook can be adapted to applied problems concerning datasets other than the one presented here."
   ]
  },
  {
   "cell_type": "code",
   "execution_count": null,
   "metadata": {},
   "outputs": [],
   "source": [
    "import pandas as pd\n",
    "import gpjax as gpx\n",
    "import jax.numpy as jnp\n",
    "import jax.random as jr\n",
    "import numpy as np\n",
    "from sklearn.model_selection import train_test_split\n",
    "from sklearn.preprocessing import StandardScaler\n",
    "from sklearn.metrics import mean_squared_error, r2_score\n",
    "import matplotlib.pyplot as plt\n",
    "from jax import jit\n",
    "import optax as ox\n",
    "\n",
    "key = jr.PRNGKey(123)"
   ]
  },
  {
   "cell_type": "markdown",
   "metadata": {},
   "source": [
    "## Data Loading\n",
    "\n",
    "We'll be using the [Yacht](https://archive.ics.uci.edu/ml/datasets/yacht+hydrodynamics) dataset from the UCI machine learning data repository. Each observation describes the hydrodynamic performance of a yacht through its resistance. The dataset contains 6 covariates and a single positive, real valued response variable. There are 308 observations in the dataset, so we can comfortably use a conjugate regression Gaussian process here (see the [Regression notebook](https://gpjax.readthedocs.io/en/latest/nbs/regression.html) for more details on this.)."
   ]
  },
  {
   "cell_type": "code",
   "execution_count": null,
   "metadata": {},
   "outputs": [],
   "source": [
    "yacht = pd.read_fwf('https://archive.ics.uci.edu/ml/machine-learning-databases/00243/yacht_hydrodynamics.data', header=None).values[:-1, :]\n",
    "X = yacht[:, :-1]\n",
    "y = yacht[:, -1].reshape(-1, 1)"
   ]
  },
  {
   "cell_type": "markdown",
   "metadata": {},
   "source": [
    "## Preprocessing\n",
    "\n",
    "With a dataset loaded, we'll now preprocess it such that it is more amenable to modelling with a Gaussian process.\n",
    "\n",
    "### Data Partitioning\n",
    "\n",
    "We'll first partition our data into a _training_ and _testing_ split. We'll fit our Gaussian process to the training data and evaluate its performance on the test data. The reason for this is that we can explore how well our Gaussian process generalises to out-of-sample datapoints and ensure that we are not overfitting. We'll hold 30% of our data back for testing purposes."
   ]
  },
  {
   "cell_type": "code",
   "execution_count": null,
   "metadata": {},
   "outputs": [],
   "source": [
    "Xtr, Xte, ytr, yte = train_test_split(X, y, test_size=0.3, random_state=42)"
   ]
  },
  {
   "cell_type": "markdown",
   "metadata": {},
   "source": [
    "### Response Variable\n",
    "\n",
    "We'll now process our response variable $\\mathbf{y}$. As the below plots show, the data has a very long tail and is certainly not Gaussian. However, we would like to model a Gaussian response variable so that we can adopt a Gaussian likelihood function and leverage the model's conjugacy. To achieve this, we'll first log-scale the data, this has the effect of bringing the long right tail in closer to the data's mean. We'll then standardise the data such that is distributed according to a unit normal distribution. Both of these transformations are invertible through the log-normal expectation and variance formulae and the the inverse standardisation identity, should we ever need our model's predictions to be back on the scale of the original dataset.\n",
    "\n",
    "For transforming both the input and response variable, all transformations will be done with respect to the training data where relevant."
   ]
  },
  {
   "cell_type": "code",
   "execution_count": null,
   "metadata": {},
   "outputs": [],
   "source": [
    "log_ytr = np.log(ytr)\n",
    "log_yte = np.log(yte)\n",
    "\n",
    "y_scaler = StandardScaler().fit(log_ytr)\n",
    "scaled_ytr = y_scaler.transform(log_ytr)\n",
    "scaled_yte = y_scaler.transform(log_yte)"
   ]
  },
  {
   "cell_type": "markdown",
   "metadata": {},
   "source": [
    "We can see the effect of these transformations in the below three panels."
   ]
  },
  {
   "cell_type": "code",
   "execution_count": null,
   "metadata": {},
   "outputs": [],
   "source": [
    "fig, ax = plt.subplots(ncols=3, figsize=(16, 4), tight_layout=True)\n",
    "ax[0].hist(ytr, bins=30)\n",
    "ax[0].set_title('y')\n",
    "ax[1].hist(log_ytr, bins=30)\n",
    "ax[1].set_title('log(y)')\n",
    "ax[2].hist(scaled_ytr, bins=30)\n",
    "ax[2].set_title('scaled log(y)')"
   ]
  },
  {
   "cell_type": "markdown",
   "metadata": {},
   "source": [
    "### Input Variable\n",
    "\n",
    "We'll now transform our input variable $\\mathbf{X}$ to be distributed according to a unit Gaussian."
   ]
  },
  {
   "cell_type": "code",
   "execution_count": null,
   "metadata": {},
   "outputs": [],
   "source": [
    "x_scaler = StandardScaler().fit(Xtr)\n",
    "scaled_Xtr = x_scaler.transform(Xtr)\n",
    "scaled_Xte = x_scaler.transform(Xte)"
   ]
  },
  {
   "cell_type": "markdown",
   "metadata": {},
   "source": [
    "## Model fitting\n",
    "\n",
    "With data now loaded and preprocessed, we'll proceed to defining a Gaussian process model and optimising its parameters. This notebook purposefully does not go into great detail on this process, so please see notebooks such as the [Regression notebook](https://gpjax.readthedocs.io/en/latest/nbs/regression.html) and [Classification notebook](https://gpjax.readthedocs.io/en/latest/nbs/classification.html) for further information.\n",
    "\n",
    "### Model specification\n",
    "\n",
    "We'll use a radial basis function kernel to parameterise the Gaussian process in this notebook. As we have 5 covariates, we'll assign each covariate its own lengthscale parameter. This form of kernel is commonly known as an automatic relevance determination (ARD) kernel.\n",
    "\n",
    "In practice, the exact form of kernel used should be selected such that it represents your understanding of the data. For example, if you were to model temperature; a process that we know to be periodic, then you would likely wish to select a periodic kernel. Having _Gaussian-ised_ our data somewhat, we'll also adopt a Gaussian likelihood function. "
   ]
  },
  {
   "cell_type": "code",
   "execution_count": null,
   "metadata": {},
   "outputs": [],
   "source": [
    "n_train, n_covariates = scaled_Xtr.shape\n",
    "kernel = gpx.kernels.RBF(active_dims = list(range(n_covariates)))\n",
    "prior = gpx.Prior(kernel = kernel)\n",
    "\n",
    "likelihood = gpx.Gaussian(num_datapoints=n_train)\n",
    "\n",
    "posterior = prior * likelihood"
   ]
  },
  {
   "cell_type": "markdown",
   "metadata": {},
   "source": [
    "### Model Optimisation\n",
    "\n",
    "With a model now defined, we can proceed to optimise the hyperparameters of our model using Optax."
   ]
  },
  {
   "cell_type": "code",
   "execution_count": null,
   "metadata": {},
   "outputs": [],
   "source": [
    "training_data = gpx.Dataset(X = scaled_Xtr, y=scaled_ytr)\n",
    "\n",
    "parameter_state = gpx.initialise(posterior, key)\n",
    "negative_mll = jit(posterior.marginal_log_likelihood(train_data = training_data, negative=True))\n",
    "optimiser = ox.adam(0.05)\n",
    "\n",
    "inference_state = gpx.fit(objective=negative_mll, \n",
    "                            parameter_state=parameter_state, \n",
    "                            optax_optim=optimiser, \n",
    "                            n_iters=1000, \n",
    "                            log_rate=50,\n",
    "                            )\n",
    "                            \n",
    "learned_params, training_history = inference_state.unpack()"
   ]
  },
  {
   "cell_type": "markdown",
   "metadata": {},
   "source": [
    "## Prediction\n",
    "\n",
    "With an optimal set of parameters learned, we can make predictions on the set of data that we held back right at the start. We'll do this in the usual way by first computing the latent function's distribution before computing the predictive posterior distribution. "
   ]
  },
  {
   "cell_type": "code",
   "execution_count": null,
   "metadata": {},
   "outputs": [],
   "source": [
    "latent_dist = posterior(training_data, learned_params)(scaled_Xte)\n",
    "predictive_dist = likelihood(latent_dist, learned_params)\n",
    "\n",
    "predictive_mean = predictive_dist.mean()\n",
    "predictive_stddev = predictive_dist.stddev()"
   ]
  },
  {
   "cell_type": "markdown",
   "metadata": {},
   "source": [
    "## Evaluation \n",
    "\n",
    "We'll now show how the performance of our Gaussian process can be evaluated by numerically and visually.\n",
    "\n",
    "### Metrics\n",
    "\n",
    "To numerically assess the performance of our model, two commonly used metrics are root mean squared error (RMSE) and the R2 coefficient. RMSE is simply the square root of the squared difference between predictions and actuals. A value of 0 for this metric implies that our model has 0 generalisation error on the test set. R2 measures the amount of variation within the data that is explained by the model. This can be useful when designing variance reduction methods such as control variates as it allows you to understand what proportion of the data's variance will be soaked up. A perfect model here would score 1 for R2 score, whereas predicting the data's mean would score 0 and models doing worse than simple mean predictions can score less than 0."
   ]
  },
  {
   "cell_type": "code",
   "execution_count": null,
   "metadata": {},
   "outputs": [],
   "source": [
    "rmse = mean_squared_error(y_true = scaled_yte.squeeze(), y_pred = predictive_mean)\n",
    "r2 = r2_score(y_true = scaled_yte.squeeze(), y_pred = predictive_mean)\n",
    "print(f'Results:\\n\\tRMSE: {rmse: .4f}\\n\\tR2: {r2: .2f}')"
   ]
  },
  {
   "cell_type": "markdown",
   "metadata": {},
   "source": [
    "Both of these metrics seem very promising, so, based off these, we can be quite happy that our first attempt at modelling the Yacht data is promising.\n",
    "\n",
    "### Diagnostic plots\n",
    "\n",
    "To accompany the above metrics, we can also produce residual plots to explore exactly where our model's shortcomings lie. If we define a residual as the true value minus the prediction, then we can produce three plots \n",
    "\n",
    "1. Predictions vs. actuals\n",
    "2. Predictions vs. residuals\n",
    "3. Residual density\n",
    "\n",
    "The first plot allows us to explore if our model struggles to predict well for larger or smaller values by observing where the model deviates more from the line $y=x$. In the second plot we can inspect whether or not there were outliers or structure within the errors of our model. A well-performing model would have predictions close to and symmetrically distributed either side of $y=0$. Such a plot can be useful for diagnosing heteroscedasticity. Finally, by plotting a histogram of our residuals we can observe whether or not there is any skew to our residuals."
   ]
  },
  {
   "cell_type": "code",
   "execution_count": null,
   "metadata": {},
   "outputs": [],
   "source": [
    "residuals = scaled_yte.squeeze()-predictive_mean\n",
    "\n",
    "fig, ax = plt.subplots(ncols=3, figsize=(16, 4), tight_layout=True)\n",
    "\n",
    "ax[0].scatter(predictive_mean, scaled_yte.squeeze())\n",
    "ax[0].plot([0, 1], [0, 1], color='tab:orange', transform=ax[0].transAxes)\n",
    "ax[0].set(xlabel='Predicted', ylabel='Actual', title='Predicted vs Actual')\n",
    "\n",
    "ax[1].scatter(predictive_mean.squeeze(), residuals)\n",
    "ax[1].plot([0, 1], [0.5, 0.5], color='tab:orange', transform=ax[1].transAxes)\n",
    "ax[1].set_ylim([-1., 1.])\n",
    "ax[1].set(xlabel='Predicted', ylabel='Residuals', title='Predicted vs Residuals')\n",
    "\n",
    "ax[2].hist(np.asarray(residuals), bins=30)\n",
    "ax[2].set_title('Residuals')"
   ]
  },
  {
   "cell_type": "markdown",
   "id": "52130aed",
   "metadata": {},
   "source": [
    "From this, we can see that our model is struggling to predict the smallest values of the Yacht's hydrodynamic and performs increasingly well as the Yacht's hydrodynamic performance increases. This is likely due to the original data's heavy right-skew, and successive modelling attempts may wish to introduce a heteroscedastic likelihood function that would enable more flexible modelling of the smaller response values.\n",
    "\n",
    "## System configuration"
   ]
  },
  {
   "cell_type": "code",
   "execution_count": null,
   "metadata": {},
   "outputs": [],
   "source": [
    "%reload_ext watermark\n",
    "%watermark -n -u -v -iv -w -a 'Thomas Pinder'"
   ]
  }
 ],
 "metadata": {
  "kernelspec": {
   "display_name": "Python 3.10.0 ('base')",
   "language": "python",
   "name": "python3"
  },
  "language_info": {
   "codemirror_mode": {
    "name": "ipython",
    "version": 3
   },
   "file_extension": ".py",
   "mimetype": "text/x-python",
   "name": "python",
   "nbconvert_exporter": "python",
   "pygments_lexer": "ipython3",
   "version": "3.10.0"
  },
  "vscode": {
   "interpreter": {
    "hash": "3d597f4c481aa0f25dceb95d2a0067e73c0966dcbd003d741d821a7208527ecf"
   }
  }
 },
 "nbformat": 4,
 "nbformat_minor": 2
}

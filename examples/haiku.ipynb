{
 "cells": [
  {
   "cell_type": "markdown",
   "id": "c7195755",
   "metadata": {},
   "source": [
    "# Deep Kernel Learning\n",
    "\n",
    "In this notebook we demonstrate how GPJax can be used in conjunction with [Haiku](https://github.com/deepmind/dm-haiku) to build deep kernel Gaussian processes. Modelling data with discontinuities is a challenging task for regular Gaussian process models. However, as shown in <strong data-cite=\"wilson2016deep\"></strong>, transforming the inputs to our Gaussian process model's kernel through a neural network can offer a solution to this."
   ]
  },
  {
   "cell_type": "code",
   "execution_count": null,
   "id": "e462fb21",
   "metadata": {},
   "outputs": [],
   "source": [
    "import gpjax as gpx\n",
    "import jax\n",
    "import jax.numpy as jnp\n",
    "import jax.random as jr\n",
    "import matplotlib.pyplot as plt\n",
    "import optax as ox\n",
    "import distrax as dx\n",
    "import typing as tp\n",
    "import haiku as hk\n",
    "from gpjax.kernels import Kernel\n",
    "from chex import dataclass\n",
    "from scipy.signal import sawtooth\n",
    "\n",
    "key = jr.PRNGKey(123)"
   ]
  },
  {
   "cell_type": "markdown",
   "id": "83756b8a",
   "metadata": {},
   "source": [
    "## Dataset\n",
    "\n",
    "As previously mentioned, deep kernels are particularly useful when the data has discontinuities. To highlight this, we will use a sawtooth function as our data."
   ]
  },
  {
   "cell_type": "code",
   "execution_count": null,
   "id": "40b5d3f6",
   "metadata": {
    "lines_to_next_cell": 1
   },
   "outputs": [],
   "source": [
    "n = 500\n",
    "noise = 0.2\n",
    "\n",
    "x = jr.uniform(key=key, minval=-2.0, maxval=2.0, shape=(n,)).sort().reshape(-1, 1)\n",
    "f = lambda x: jnp.asarray(sawtooth(2 * jnp.pi * x))\n",
    "signal = f(x)\n",
    "y = signal + jr.normal(key, shape=signal.shape) * noise\n",
    "\n",
    "D = gpx.Dataset(X=x, y=y)\n",
    "\n",
    "xtest = jnp.linspace(-2.0, 2.0, 500).reshape(-1, 1)\n",
    "ytest = f(xtest)\n",
    "\n",
    "fig, ax = plt.subplots(1, 1, figsize=(10, 5))\n",
    "ax.plot(x, y, \"o\", label=\"Training data\", alpha=0.5)\n",
    "ax.plot(xtest, ytest, label=\"True function\")\n",
    "ax.legend(loc=\"best\")"
   ]
  },
  {
   "cell_type": "markdown",
   "id": "a1f5bb45",
   "metadata": {},
   "source": [
    "## Deep kernels\n",
    "\n",
    "### Details\n",
    "\n",
    "Instead of applying a kernel $k(\\cdot, \\cdot')$ directly on some data, we seek to apply a _feature map_ $\\phi(\\cdot)$ that projects the data to learn more meaningful representations beforehand. In deep kernel learning, $\\phi$ is a neural network whose parameters are learned jointly with the GP model's hyperparameters. The corresponding kernel is then computed by $k(\\phi(\\cdot), \\phi(\\cdot'))$. Here $k(\\cdot,\\cdot')$ is referred to as the _base kernel_.\n",
    "\n",
    "### Implementation\n",
    "\n",
    "Although deep kernels are not currently supported natively in GPJax, defining one is straightforward as we now demonstrate. Using the base `Kernel` object given in GPJax, we provide a mixin class named `_DeepKernelFunction` to facilitate the user supplying the neural network and base kernel of their choice. Kernel matrices are then computed using the regular `gram` and `cross_covariance` functions."
   ]
  },
  {
   "cell_type": "code",
   "execution_count": null,
   "id": "898daf3a",
   "metadata": {},
   "outputs": [],
   "source": [
    "@dataclass\n",
    "class _DeepKernelFunction:\n",
    "    network: hk.Module\n",
    "    base_kernel: Kernel\n",
    "\n",
    "\n",
    "@dataclass\n",
    "class DeepKernelFunction(Kernel, _DeepKernelFunction):\n",
    "    def __call__(self, x: jnp.DeviceArray, y: jnp.DeviceArray, params: dict) -> jnp.ndarray:\n",
    "        xt = self.network.apply(params=params, x=x)\n",
    "        yt = self.network.apply(params=params, x=y)\n",
    "        return self.base_kernel(xt, yt, params=params)\n",
    "\n",
    "    def initialise(self, dummy_x, key):\n",
    "        nn_params = self.network.init(rng=key, x=dummy_x)\n",
    "        base_kernel_params = self.base_kernel._initialise_params(key)\n",
    "        self._params = {**nn_params, **base_kernel_params}\n",
    "\n",
    "    def _initialise_params(self, key):\n",
    "        return self._params"
   ]
  },
  {
   "cell_type": "markdown",
   "id": "877007f5",
   "metadata": {},
   "source": [
    "### Defining a network\n",
    "\n",
    "With a deep kernel object created, we proceed to define a neural network. Here we consider a small multi-layer perceptron with two linear hidden layers and ReLU activation functions between the layers. The first hidden layer contains 32 units, while the second layer contains 64 units. Finally, we'll make the output of our network a single unit. However, it would be possible to project our data into a $d-$dimensional space for $d>1$. In these instances, making the [base kernel ARD](https://gpjax.readthedocs.io/en/latest/nbs/kernels.html#Active-dimensions) would be sensible.\n",
    "Users may wish to design more intricate network structures for more complex tasks, which functionality is supported well in Haiku."
   ]
  },
  {
   "cell_type": "code",
   "execution_count": null,
   "id": "6de933e9",
   "metadata": {},
   "outputs": [],
   "source": [
    "def forward(x):\n",
    "    mlp = hk.Sequential(\n",
    "        [\n",
    "            hk.Linear(32),\n",
    "            jax.nn.relu,\n",
    "            hk.Linear(64),\n",
    "            jax.nn.relu,\n",
    "            hk.Linear(1),\n",
    "        ]\n",
    "    )\n",
    "    return mlp(x)\n",
    "\n",
    "\n",
    "forward_linear1 = hk.transform(forward)\n",
    "forward_linear1 = hk.without_apply_rng(forward_linear1)"
   ]
  },
  {
   "cell_type": "markdown",
   "id": "99abe723",
   "metadata": {},
   "source": [
    "## Defining a model\n",
    "\n",
    "Having characterised the feature extraction network, we move to define a Gaussian process parameterised by this deep kernel. We consider a third-order Matérn base kernel and assume a Gaussian likelihood. Parameters, trainability status and transformations are initialised in the usual manner."
   ]
  },
  {
   "cell_type": "code",
   "execution_count": null,
   "id": "1ea16f32",
   "metadata": {},
   "outputs": [],
   "source": [
    "base_kernel = gpx.Matern52()\n",
    "kernel = DeepKernelFunction(network=forward_linear1, base_kernel=base_kernel)\n",
    "kernel.initialise(x, key)\n",
    "prior = gpx.Prior(kernel=kernel)\n",
    "likelihood = gpx.Gaussian(num_datapoints=D.n)\n",
    "posterior = prior * likelihood"
   ]
  },
  {
   "cell_type": "markdown",
   "id": "bae5ebe8",
   "metadata": {
    "lines_to_next_cell": 0
   },
   "source": [
    "### Optimisation\n",
    "\n",
    "We train our model via maximum likelihood estimation of the marginal log-likelihood. The parameters of our neural network are learned jointly with the model's hyperparameter set.\n",
    "\n",
    "With the inclusion of a neural network, we take this opportunity to highlight the additional benefits gleaned from using [Optax](https://optax.readthedocs.io/en/latest/) for optimisation. In particular, we showcase the ability to use a learning rate scheduler that decays the optimiser's learning rate throughout the inference. We decrease the learning rate according to a half-cosine curve over 1000 iterations, providing us with large step sizes early in the optimisation procedure before approaching more conservative values, ensuring we do not step too far. We also consider a linear warmup, where the learning rate is increased from 0 to 1 over 50 steps to get a reasonable initial learning rate value."
   ]
  },
  {
   "cell_type": "code",
   "execution_count": null,
   "id": "4ef59c88",
   "metadata": {},
   "outputs": [],
   "source": [
    "parameter_state = gpx.initialise(posterior, key)\n",
    "\n",
    "negative_mll = jax.jit(posterior.marginal_log_likelihood(D, negative=True))\n",
    "negative_mll(parameter_state.params)\n",
    "\n",
    "schedule = ox.warmup_cosine_decay_schedule(\n",
    "    init_value=0.0,\n",
    "    peak_value=1.0,\n",
    "    warmup_steps=50,\n",
    "    decay_steps=1_000,\n",
    "    end_value=0.0,\n",
    ")\n",
    "\n",
    "optimiser = ox.chain(\n",
    "    ox.clip(1.0),\n",
    "    ox.adamw(learning_rate=schedule),\n",
    ")\n",
    "\n",
    "inference_state = gpx.fit(\n",
    "    objective=negative_mll,\n",
    "    parameter_state=parameter_state,\n",
    "    optax_optim=optimiser,\n",
    "    n_iters=5000,\n",
    ")\n",
    "\n",
    "learned_params, training_history = inference_state.unpack()"
   ]
  },
  {
   "cell_type": "markdown",
   "id": "62122c83",
   "metadata": {},
   "source": [
    "## Prediction\n",
    "\n",
    "With a set of learned parameters, the only remaining task is to predict the output of the model. We can do this by simply applying the model to a test data set."
   ]
  },
  {
   "cell_type": "code",
   "execution_count": null,
   "id": "36d04d24",
   "metadata": {},
   "outputs": [],
   "source": [
    "latent_dist = posterior(D, learned_params)(xtest)\n",
    "predictive_dist = likelihood(latent_dist, learned_params)\n",
    "\n",
    "predictive_mean = predictive_dist.mean()\n",
    "predictive_std = predictive_dist.stddev()\n",
    "\n",
    "fig, ax = plt.subplots(figsize=(12, 5))\n",
    "ax.plot(x, y, \"o\", label=\"Observations\", color=\"tab:red\")\n",
    "ax.plot(xtest, predictive_mean, label=\"Predictive mean\", color=\"tab:blue\")\n",
    "ax.fill_between(\n",
    "    xtest.squeeze(),\n",
    "    predictive_mean - predictive_std,\n",
    "    predictive_mean + predictive_std,\n",
    "    alpha=0.2,\n",
    "    color=\"tab:blue\",\n",
    "    label=\"One sigma\",\n",
    ")\n",
    "ax.plot(xtest, predictive_mean - predictive_std, color=\"tab:blue\", linestyle=\"--\", linewidth=1)\n",
    "ax.plot(xtest, predictive_mean + predictive_std, color=\"tab:blue\", linestyle=\"--\", linewidth=1)\n",
    "ax.legend()"
   ]
  },
  {
   "cell_type": "markdown",
   "id": "83d76585",
   "metadata": {},
   "source": [
    "## System configuration"
   ]
  },
  {
   "cell_type": "code",
   "execution_count": null,
   "id": "deb0766c",
   "metadata": {},
   "outputs": [],
   "source": [
    "%reload_ext watermark\n",
    "%watermark -n -u -v -iv -w -a 'Thomas Pinder (edited by Daniel Dodd)'"
   ]
  }
 ],
 "metadata": {
  "jupytext": {
   "custom_cell_magics": "kql"
  },
  "kernelspec": {
   "display_name": "Python 3.10.0 ('base')",
   "language": "python",
   "name": "python3"
  },
  "language_info": {
   "codemirror_mode": {
    "name": "ipython",
    "version": 3
   },
   "file_extension": ".py",
   "mimetype": "text/x-python",
   "name": "python",
   "nbconvert_exporter": "python",
   "pygments_lexer": "ipython3",
   "version": "3.10.0"
  },
  "vscode": {
   "interpreter": {
    "hash": "3d597f4c481aa0f25dceb95d2a0067e73c0966dcbd003d741d821a7208527ecf"
   }
  }
 },
 "nbformat": 4,
 "nbformat_minor": 5
}

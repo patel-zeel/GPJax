{
 "cells": [
  {
   "cell_type": "markdown",
   "id": "6e1a5163",
   "metadata": {
    "pycharm": {
     "name": "#%% md\n"
    }
   },
   "source": [
    "# Sparse Gaussian Process Regression\n",
    "\n",
    "In this notebook we consider sparse Gaussian process regression (SGPR) <strong data-cite=\"titsias2009\">Titsias (2009)</strong>. This is a solution for medium- to large-scale conjugate regression problems. \n",
    "In order to arrive at a computationally tractable method, the approximate posterior is parameterized via a set of $m$ pseudo-points $\\boldsymbol{z}$. Critically, the approach leads to $\\mathcal{O}(nm^2)$ complexity for approximate maximum likelihood learning and $O(m^2)$ per test point for prediction."
   ]
  },
  {
   "cell_type": "code",
   "execution_count": null,
   "id": "ee78ab0d",
   "metadata": {
    "lines_to_next_cell": 2
   },
   "outputs": [],
   "source": [
    "import jax.numpy as jnp\n",
    "import jax.random as jr\n",
    "import matplotlib.pyplot as plt\n",
    "import optax as ox\n",
    "from jax import jit\n",
    "\n",
    "import gpjax as gpx\n",
    "\n",
    "key = jr.PRNGKey(123)"
   ]
  },
  {
   "cell_type": "markdown",
   "id": "3311b8e4",
   "metadata": {
    "lines_to_next_cell": 0
   },
   "source": [
    "## Dataset\n",
    "\n",
    "With the necessary modules imported, we simulate a dataset $\\mathcal{D} = (\\boldsymbol{x}, \\boldsymbol{y}) = \\{(x_i, y_i)\\}_{i=1}^{500}$ with inputs $\\boldsymbol{x}$ sampled uniformly on $(-3., 3)$ and corresponding independent noisy outputs\n",
    "\n",
    "$$\\boldsymbol{y} \\sim \\mathcal{N} \\left(\\sin(7\\boldsymbol{x}) + x \\cos(2 \\boldsymbol{x}), \\textbf{I} * 0.5^2 \\right).$$\n",
    "\n",
    "We store our data $\\mathcal{D}$ as a GPJax `Dataset` and create test inputs and labels for later."
   ]
  },
  {
   "cell_type": "code",
   "execution_count": null,
   "id": "81632404",
   "metadata": {
    "lines_to_next_cell": 0
   },
   "outputs": [],
   "source": [
    "n = 2500\n",
    "noise = .5\n",
    "\n",
    "x = jr.uniform(key=key, minval=-3.0, maxval=3.0, shape=(n,)).sort().reshape(-1, 1)\n",
    "f = lambda x: jnp.sin(2 *  x) + x * jnp.cos(5 *  x)\n",
    "signal = f(x)\n",
    "y = signal + jr.normal(key, shape=signal.shape) * noise\n",
    "\n",
    "D = gpx.Dataset(X=x, y=y)\n",
    "\n",
    "xtest = jnp.linspace(-3.1, 3.1, 500).reshape(-1, 1)\n",
    "ytest = f(xtest)"
   ]
  },
  {
   "cell_type": "markdown",
   "id": "9bfa5634",
   "metadata": {
    "lines_to_next_cell": 0
   },
   "source": [
    "To better understand what we have simulated, we plot both the underlying latent function and the observed data that is subject to Gaussian noise. We also plot an initial set of inducing points over the space."
   ]
  },
  {
   "cell_type": "code",
   "execution_count": null,
   "id": "b7e7302c",
   "metadata": {
    "lines_to_next_cell": 0
   },
   "outputs": [],
   "source": [
    "n_inducing = 50\n",
    "z = jnp.linspace(-3.0, 3.0, n_inducing).reshape(-1, 1)\n",
    "\n",
    "fig, ax = plt.subplots(figsize=(12, 5))\n",
    "ax.plot(xtest, ytest, label=\"Latent function\", color='tab:blue')\n",
    "ax.plot(x, y, \"o\", color=\"tab:orange\",  alpha=0.4, label=\"Observations\", markersize=2.5)\n",
    "[ax.axvline(x=z_i, color=\"tab:gray\", alpha=0.3, linewidth=1) for z_i in z]\n",
    "ax.legend(loc=\"best\")\n",
    "plt.show()"
   ]
  },
  {
   "cell_type": "markdown",
   "id": "9b904331",
   "metadata": {
    "lines_to_next_cell": 0
   },
   "source": [
    "Next we define the posterior model for the data."
   ]
  },
  {
   "cell_type": "code",
   "execution_count": null,
   "id": "db45d1bf",
   "metadata": {
    "lines_to_next_cell": 0
   },
   "outputs": [],
   "source": [
    "kernel = gpx.RBF()\n",
    "likelihood = gpx.Gaussian(num_datapoints=D.n)\n",
    "prior = gpx.Prior(kernel=kernel)\n",
    "p = prior * likelihood"
   ]
  },
  {
   "cell_type": "markdown",
   "id": "05f2dd73",
   "metadata": {
    "lines_to_next_cell": 0
   },
   "source": [
    "We now define the SGPR model through `CollapsedVariationalGaussian`. Since the form of the collapsed optimal posterior depends on the Gaussian likelihood's observation noise, we pass this to the constructer."
   ]
  },
  {
   "cell_type": "code",
   "execution_count": null,
   "id": "d5e01985",
   "metadata": {},
   "outputs": [],
   "source": [
    "q = gpx.CollapsedVariationalGaussian(prior=prior, likelihood=likelihood, inducing_inputs=z)"
   ]
  },
  {
   "cell_type": "markdown",
   "id": "c012e543",
   "metadata": {
    "lines_to_next_cell": 0
   },
   "source": [
    "We define our variational inference algorithm through `CollapsedVI`. This defines the collapsed variational free energy bound considered in <strong data-cite=\"titsias2009\">Titsias (2009)</strong>."
   ]
  },
  {
   "cell_type": "code",
   "execution_count": null,
   "id": "ae9151c0",
   "metadata": {},
   "outputs": [],
   "source": [
    "sgpr = gpx.CollapsedVI(posterior=p, variational_family=q)"
   ]
  },
  {
   "cell_type": "markdown",
   "id": "b44d1abd",
   "metadata": {
    "lines_to_next_cell": 0
   },
   "source": [
    "We now train our model akin to a Gaussian process regression model via the `fit` abstraction. Unlike the regression example given in the [conjugate regression notebook](https://gpjax.readthedocs.io/en/latest/nbs/regression.html), the inducing locations that induce our variational posterior distribution are now part of the model's parameters. Using a gradient-based optimiser, we can then _optimise_ their location such that the evidence lower bound is maximised."
   ]
  },
  {
   "cell_type": "code",
   "execution_count": null,
   "id": "c5a3a562",
   "metadata": {},
   "outputs": [],
   "source": [
    "parameter_state = gpx.initialise(sgpr, key)\n",
    "\n",
    "negative_elbo = jit(sgpr.elbo(D, negative=True))\n",
    "\n",
    "optimiser = ox.adam(learning_rate=0.005)\n",
    "\n",
    "inference_state = gpx.fit(\n",
    "    objective=negative_elbo,\n",
    "    parameter_state=parameter_state,\n",
    "    optax_optim=optimiser,\n",
    "    n_iters=2000,\n",
    ")\n",
    "\n",
    "learned_params, training_history = inference_state.unpack()"
   ]
  },
  {
   "cell_type": "markdown",
   "id": "bbf458e1",
   "metadata": {
    "lines_to_next_cell": 0
   },
   "source": [
    "We show predictions of our model with the learned inducing points overlayed in grey."
   ]
  },
  {
   "cell_type": "code",
   "execution_count": null,
   "id": "3fbf7224",
   "metadata": {},
   "outputs": [],
   "source": [
    "latent_dist = q.predict(D, learned_params)(xtest)\n",
    "predictive_dist = likelihood(latent_dist, learned_params)\n",
    "\n",
    "samples = latent_dist.sample(seed=key,sample_shape=20)\n",
    "\n",
    "predictive_mean = predictive_dist.mean()\n",
    "predictive_std = predictive_dist.stddev()\n",
    "\n",
    "fig, ax = plt.subplots(figsize=(12, 5))\n",
    "\n",
    "ax.plot(x, y, \"o\", label=\"Observations\", color=\"tab:orange\", alpha=0.4, markersize=2.5)\n",
    "ax.plot(xtest, predictive_mean, label=\"Predictive mean\", color=\"tab:blue\")\n",
    "\n",
    "ax.fill_between(xtest.squeeze(), predictive_mean - predictive_std,\n",
    "    predictive_mean + predictive_std, alpha=0.2, color=\"tab:blue\", label='Two sigma')\n",
    "ax.plot(xtest, predictive_mean - predictive_std, color=\"tab:blue\", linestyle=\"--\", linewidth=1)\n",
    "ax.plot(xtest, predictive_mean + predictive_std, color=\"tab:blue\", linestyle=\"--\", linewidth=1)\n",
    "ax.plot(xtest, ytest, label=\"Latent function\",color=\"tab:green\", linestyle=\"--\", linewidth=1)\n",
    "\n",
    "\n",
    "ax.plot(xtest, samples.T, color='tab:blue', alpha=0.8, linewidth=0.2)\n",
    "[\n",
    "    ax.axvline(x=z_i, color=\"tab:gray\", alpha=0.3, linewidth=1)\n",
    "    for z_i in learned_params[\"variational_family\"][\"inducing_inputs\"]\n",
    "]\n",
    "ax.legend()\n",
    "plt.show()"
   ]
  },
  {
   "cell_type": "markdown",
   "id": "49caee5e",
   "metadata": {},
   "source": [
    "## Runtime comparison\n",
    "\n",
    "Given the size of the data being considered here, inference in a GP with a full-rank covariance matrix is possible, albeit quite slow. We can therefore compare the speedup that we get from using the above sparse approximation with corresponding bound on the marginal log-likelihood against the marginal log-likelihood in the full model."
   ]
  },
  {
   "cell_type": "code",
   "execution_count": null,
   "id": "5cccc3e2",
   "metadata": {},
   "outputs": [],
   "source": [
    "full_rank_model = gpx.Prior(kernel = gpx.RBF()) * gpx.Gaussian(num_datapoints=D.n)\n",
    "fr_params, *_ = gpx.initialise(full_rank_model, key).unpack()\n",
    "negative_mll = jit(full_rank_model.marginal_log_likelihood(D, negative=True))\n",
    "\n",
    "%timeit negative_mll(fr_params).block_until_ready()"
   ]
  },
  {
   "cell_type": "code",
   "execution_count": null,
   "id": "328af013",
   "metadata": {},
   "outputs": [],
   "source": [
    "params, *_ = gpx.initialise(sgpr, key).unpack()\n",
    "negative_elbo = jit(sgpr.elbo(D, negative=True))\n",
    "\n",
    "%timeit negative_elbo(params).block_until_ready()"
   ]
  },
  {
   "cell_type": "markdown",
   "id": "9ad27c82",
   "metadata": {},
   "source": [
    "As we can see, the sparse approximation given here is around 50 times faster when compared against a full-rank model."
   ]
  },
  {
   "cell_type": "markdown",
   "id": "d2104665",
   "metadata": {},
   "source": [
    "## System configuration"
   ]
  },
  {
   "cell_type": "code",
   "execution_count": null,
   "id": "f29e8d8f",
   "metadata": {},
   "outputs": [],
   "source": [
    "%reload_ext watermark\n",
    "%watermark -n -u -v -iv -w -a 'Daniel Dodd'"
   ]
  }
 ],
 "metadata": {
  "jupytext": {
   "custom_cell_magics": "kql"
  },
  "kernelspec": {
   "display_name": "Python 3.10.0 ('base')",
   "language": "python",
   "name": "python3"
  },
  "language_info": {
   "codemirror_mode": {
    "name": "ipython",
    "version": 3
   },
   "file_extension": ".py",
   "mimetype": "text/x-python",
   "name": "python",
   "nbconvert_exporter": "python",
   "pygments_lexer": "ipython3",
   "version": "3.10.0"
  },
  "vscode": {
   "interpreter": {
    "hash": "3d597f4c481aa0f25dceb95d2a0067e73c0966dcbd003d741d821a7208527ecf"
   }
  }
 },
 "nbformat": 4,
 "nbformat_minor": 5
}

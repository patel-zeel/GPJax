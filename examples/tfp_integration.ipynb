{
 "cells": [
  {
   "cell_type": "markdown",
   "id": "b7741856",
   "metadata": {
    "lines_to_next_cell": 0
   },
   "source": [
    "# TensorFlow Probability Integration\n",
    "This notebook demonstrates how to perform Markov chain Monte Carlo (MCMC) inference for Gaussian process models using TensorFlow Probability."
   ]
  },
  {
   "cell_type": "code",
   "execution_count": null,
   "id": "aa259162",
   "metadata": {},
   "outputs": [],
   "source": [
    "from pprint import PrettyPrinter\n",
    "\n",
    "import jax\n",
    "import jax.numpy as jnp\n",
    "import jax.random as jr\n",
    "import matplotlib.pyplot as plt\n",
    "\n",
    "import gpjax as gpx\n",
    "from gpjax.utils import dict_array_coercion\n",
    "\n",
    "pp = PrettyPrinter(indent=4)\n",
    "key = jr.PRNGKey(123)"
   ]
  },
  {
   "cell_type": "markdown",
   "id": "4cef03af",
   "metadata": {},
   "source": [
    "## Dataset\n",
    "\n",
    "In this tutorial we'll be trying to model a normalised sinc function\n",
    "$$f(x) = \\frac{\\sin(\\pi x)}{\\pi x}, \\qquad x\\in\\mathbb{R}\\setminus\\{0\\}, $$\n",
    "\n",
    "through observations perturbed by Gaussian noise. We begin by simulating some data below."
   ]
  },
  {
   "cell_type": "code",
   "execution_count": null,
   "id": "844b4a38",
   "metadata": {},
   "outputs": [],
   "source": [
    "n = 100\n",
    "noise = 0.1\n",
    "\n",
    "x = jnp.sort(jr.uniform(key, minval=-5.0, maxval=5.0, shape=(n, 1)), axis=0)\n",
    "f = lambda x: jnp.sin(jnp.pi * x) / (jnp.pi * x)\n",
    "y = f(x) + jr.normal(key, shape=x.shape) * noise\n",
    "\n",
    "fig, ax = plt.subplots(figsize=(12, 6))\n",
    "ax.plot(x, f(x), label=\"Latent fn\")\n",
    "ax.plot(x, y, \"o\", label=\"Observations\", alpha=0.6)\n",
    "ax.legend(loc=\"best\")"
   ]
  },
  {
   "cell_type": "markdown",
   "id": "3ceb85de",
   "metadata": {},
   "source": [
    "## Define GPJax objects\n",
    "\n",
    "We'll wrap our pair of observed data arrays up into a `Dataset` object $\\mathcal{D}$ and define a GP posterior."
   ]
  },
  {
   "cell_type": "code",
   "execution_count": null,
   "id": "2e8e4c68",
   "metadata": {},
   "outputs": [],
   "source": [
    "D = gpx.Dataset(X=x, y=y)\n",
    "likelihood = gpx.Gaussian(num_datapoints=D.n)\n",
    "posterior = gpx.Prior(kernel=gpx.RBF()) * likelihood"
   ]
  },
  {
   "cell_type": "markdown",
   "id": "b2e3bc8e",
   "metadata": {},
   "source": [
    "## Initialise parameters\n",
    "\n",
    "Since our model hyperparameters are positive, our MCMC sampler will sample on the parameters' unconstrained space and the samples will then be back-transformed onto the original positive real line. GPJax's `initialise` function makes this straightforward."
   ]
  },
  {
   "cell_type": "code",
   "execution_count": null,
   "id": "686903f4",
   "metadata": {},
   "outputs": [],
   "source": [
    "params, _, bijectors = gpx.initialise(posterior, key).unpack()"
   ]
  },
  {
   "cell_type": "markdown",
   "id": "d4bdc84a",
   "metadata": {},
   "source": [
    "#### Parameter type\n",
    "\n",
    "MCMC samplers supplied with TensorFlow probability require us to supply our parameters as an array. \n",
    "This is at odds with GPJax where our parameters are stored as dictionaries.\n",
    "To resolve this, we use the `dict_array_coercion` callable that returns two functions; one that maps from an array to a dictionary and a second that maps back to an array given a dictionary.\n",
    "These functions are order preserving."
   ]
  },
  {
   "cell_type": "code",
   "execution_count": null,
   "id": "72d2065c",
   "metadata": {},
   "outputs": [],
   "source": [
    "dict_to_array, array_to_dict = dict_array_coercion(params)"
   ]
  },
  {
   "cell_type": "code",
   "execution_count": null,
   "id": "d013c51a",
   "metadata": {},
   "outputs": [],
   "source": [
    "parray = dict_to_array(params)\n",
    "print(parray)"
   ]
  },
  {
   "cell_type": "code",
   "execution_count": null,
   "id": "8f1f5c3f",
   "metadata": {},
   "outputs": [],
   "source": [
    "array_to_dict(parray) == params"
   ]
  },
  {
   "cell_type": "markdown",
   "id": "2ffd4012",
   "metadata": {},
   "source": [
    "### Specifying priors\n",
    "\n",
    "We can define Gamma priors on our hyperparameters through TensorFlow Probability's `Distributions` module."
   ]
  },
  {
   "cell_type": "code",
   "execution_count": null,
   "id": "3d293835",
   "metadata": {},
   "outputs": [],
   "source": [
    "import tensorflow_probability.substrates.jax as tfp\n",
    "\n",
    "tfd = tfp.distributions\n",
    "\n",
    "priors = gpx.parameters.copy_dict_structure(params)\n",
    "priors[\"kernel\"][\"lengthscale\"] = tfd.Gamma(\n",
    "    concentration=jnp.array(1.0), rate=jnp.array(1.0)\n",
    ")\n",
    "priors[\"kernel\"][\"variance\"] = tfd.Gamma(\n",
    "    concentration=jnp.array(1.0), rate=jnp.array(1.0)\n",
    ")\n",
    "priors[\"likelihood\"][\"obs_noise\"] = tfd.Gamma(\n",
    "    concentration=jnp.array(1.0), rate=jnp.array(1.0)\n",
    ")"
   ]
  },
  {
   "cell_type": "markdown",
   "id": "2f4d17da",
   "metadata": {},
   "source": [
    "### Defining our target function\n",
    "\n",
    "We now define the target distribution that our MCMC sampler will sample from. For our GP, this is the marginal log-likelihood that we specify below."
   ]
  },
  {
   "cell_type": "code",
   "execution_count": null,
   "id": "0a783709",
   "metadata": {},
   "outputs": [],
   "source": [
    "mll = posterior.marginal_log_likelihood(D, priors=priors, negative=False)\n",
    "mll(params)"
   ]
  },
  {
   "cell_type": "markdown",
   "id": "7112c63e",
   "metadata": {},
   "source": [
    "Since our model parameters are now an array, not a dictionary, we must define a function that maps the array back to a dictionary and then evaluates the marginal log-likelihood. Using the second return of `dict_array_coercion` this is straightforward as follows."
   ]
  },
  {
   "cell_type": "code",
   "execution_count": null,
   "id": "505b0159",
   "metadata": {},
   "outputs": [],
   "source": [
    "def build_log_pi(target, mapper_fn):\n",
    "    def array_mll(parameter_array):\n",
    "        parameter_dict = mapper_fn([jnp.array(i) for i in parameter_array])\n",
    "        gpx.constrain(parameter_dict, bijectors)\n",
    "        return target(parameter_dict)\n",
    "\n",
    "    return array_mll\n",
    "\n",
    "\n",
    "mll_array_form = build_log_pi(mll, array_to_dict)"
   ]
  },
  {
   "cell_type": "markdown",
   "id": "0d64d53f",
   "metadata": {},
   "source": [
    "## Sample\n",
    "\n",
    "We now have all the necessary machinery in place. To sample from our target distribution, we'll use TensorFlow's Hamiltonian Monte-Carlo sampler equipped with the No U-Turn Sampler kernel to draw 500 samples for illustrative purposes (you will likely need more in practice)."
   ]
  },
  {
   "cell_type": "code",
   "execution_count": null,
   "id": "3fe11190",
   "metadata": {},
   "outputs": [],
   "source": [
    "n_samples = 500\n",
    "\n",
    "def run_chain(key, state):\n",
    "    kernel = tfp.mcmc.NoUTurnSampler(mll_array_form, 1e-1)\n",
    "    return tfp.mcmc.sample_chain(\n",
    "        n_samples,\n",
    "        current_state=state,\n",
    "        kernel=kernel,\n",
    "        trace_fn=lambda _, results: results.target_log_prob,\n",
    "        seed=key,\n",
    "    )"
   ]
  },
  {
   "cell_type": "markdown",
   "id": "1b68f72e",
   "metadata": {},
   "source": [
    "Since everything is pure Jax, we are free to JIT compile our sampling function and go."
   ]
  },
  {
   "cell_type": "code",
   "execution_count": null,
   "id": "d45c57fb",
   "metadata": {},
   "outputs": [],
   "source": [
    "unconstrained_params = gpx.unconstrain(params, bijectors)\n",
    "states, log_probs = jax.jit(run_chain)(key, jnp.array(dict_to_array(unconstrained_params)))"
   ]
  },
  {
   "cell_type": "markdown",
   "id": "2cf5e89e",
   "metadata": {},
   "source": [
    "## Inspecting samples\n",
    "\n",
    "We now assess the quality of our chains. To illustrate the acts of burn-in and thinning, we discard the first 50 samples as burn-in and thin the remaining samples by a factor of 2."
   ]
  },
  {
   "cell_type": "code",
   "execution_count": null,
   "id": "18952e69",
   "metadata": {},
   "outputs": [],
   "source": [
    "burn_in = 50\n",
    "thin_factor = 2\n",
    "n_params = states.shape[1]\n",
    "\n",
    "samples = [states[burn_in:, i, :][::thin_factor] for i in range(n_params)]\n",
    "sample_dict = array_to_dict(samples)\n",
    "constrained_samples = gpx.constrain(sample_dict, bijectors)\n",
    "constrained_sample_list = dict_to_array(constrained_samples)"
   ]
  },
  {
   "cell_type": "markdown",
   "id": "b3c714bc",
   "metadata": {},
   "source": [
    "We observe reasonable performance for our chains as shown in the traceplots below."
   ]
  },
  {
   "cell_type": "code",
   "execution_count": null,
   "id": "1fcabb9e",
   "metadata": {},
   "outputs": [],
   "source": [
    "fig, axes = plt.subplots(figsize=(20, 10), ncols=n_params, nrows=2)\n",
    "titles = [\"Lengthscale\", \"Kernel Variance\", \"Obs. Noise\"]\n",
    "\n",
    "for i in range(n_params):\n",
    "    axes[0, i].plot(samples[i], alpha=0.5, color=\"tab:orange\")\n",
    "    axes[1, i].plot(constrained_sample_list[i], alpha=0.5, color=\"tab:blue\")\n",
    "    axes[0, i].axhline(y=jnp.mean(samples[i]), color=\"tab:orange\")\n",
    "    axes[1, i].axhline(y=jnp.mean(constrained_sample_list[i]), color=\"tab:blue\")\n",
    "    axes[0, i].set_title(titles[i])\n",
    "    axes[1, i].set_title(titles[i])\n",
    "\n",
    "plt.tight_layout()"
   ]
  },
  {
   "cell_type": "markdown",
   "id": "177cf7e0",
   "metadata": {},
   "source": [
    "## Making predictions\n",
    "\n",
    "We’ll now use our MCMC samples to make predictions. For simplicity, we’ll take the average of the samples to give point estimate parameter values for prediction. However, you may wish to draw from the GP posterior for each sample collected during the MCMC phase."
   ]
  },
  {
   "cell_type": "code",
   "execution_count": null,
   "id": "d2829176",
   "metadata": {},
   "outputs": [],
   "source": [
    "xtest = jnp.linspace(-5.2, 5.2, 500).reshape(-1, 1)\n",
    "learned_params = array_to_dict([jnp.mean(i) for i in constrained_sample_list])\n",
    "\n",
    "predictive_dist = likelihood(posterior(D, learned_params)(xtest), learned_params)\n",
    "\n",
    "mu = predictive_dist.mean()\n",
    "sigma = predictive_dist.stddev()"
   ]
  },
  {
   "cell_type": "markdown",
   "id": "b858f33a",
   "metadata": {},
   "source": [
    "Finally, we plot the learned posterior predictive distribution evaluated at the test points defined above."
   ]
  },
  {
   "cell_type": "code",
   "execution_count": null,
   "id": "9be216ea",
   "metadata": {},
   "outputs": [],
   "source": [
    "fig, ax = plt.subplots(figsize=(12, 5))\n",
    "ax.plot(x, y, \"o\", label=\"Obs\", color=\"tab:red\")\n",
    "ax.plot(xtest, mu, label=\"pred\", color=\"tab:blue\")\n",
    "ax.fill_between(\n",
    "    xtest.squeeze(),\n",
    "    mu.squeeze() - sigma,\n",
    "    mu.squeeze() + sigma,\n",
    "    alpha=0.2,\n",
    "    color=\"tab:blue\",\n",
    ")\n",
    "ax.plot(xtest, mu.squeeze() - sigma, color=\"tab:blue\", linestyle=\"--\", linewidth=1)\n",
    "ax.plot(xtest, mu.squeeze() + sigma, color=\"tab:blue\", linestyle=\"--\", linewidth=1)\n",
    "\n",
    "ax.legend()"
   ]
  },
  {
   "cell_type": "markdown",
   "id": "bca69c91",
   "metadata": {},
   "source": [
    "This concludes our tutorial on interfacing TensorFlow Probability with GPJax. \n",
    "The workflow demonstrated here only scratches the surface regarding the inference possible with a large number of samplers available in TensorFlow probability."
   ]
  },
  {
   "cell_type": "markdown",
   "id": "a2d54e87",
   "metadata": {},
   "source": [
    "## System configuration"
   ]
  },
  {
   "cell_type": "code",
   "execution_count": null,
   "id": "88c70e9d",
   "metadata": {},
   "outputs": [],
   "source": [
    "%load_ext watermark\n",
    "%watermark -n -u -v -iv -w -a \"Thomas Pinder (edited by Daniel Dodd)\""
   ]
  }
 ],
 "metadata": {
  "jupytext": {
   "custom_cell_magics": "kql"
  },
  "kernelspec": {
   "display_name": "Python 3.10.0 ('base')",
   "language": "python",
   "name": "python3"
  },
  "language_info": {
   "codemirror_mode": {
    "name": "ipython",
    "version": 3
   },
   "file_extension": ".py",
   "mimetype": "text/x-python",
   "name": "python",
   "nbconvert_exporter": "python",
   "pygments_lexer": "ipython3",
   "version": "3.10.0"
  },
  "vscode": {
   "interpreter": {
    "hash": "3d597f4c481aa0f25dceb95d2a0067e73c0966dcbd003d741d821a7208527ecf"
   }
  }
 },
 "nbformat": 4,
 "nbformat_minor": 5
}

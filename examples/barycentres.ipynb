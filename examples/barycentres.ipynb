{
 "cells": [
  {
   "cell_type": "markdown",
   "id": "e5c0b641",
   "metadata": {},
   "source": [
    "# Gaussian Processes Barycentres\n",
    "\n",
    "In this notebook we'll give an implementation of <strong data-cite=\"mallasto2017learning\"></strong>. In this work, the existence of a Wasserstein barycentre between a collection of Gaussian processes is proven. When faced with trying to _average_ a set of probability distributions, the Wasserstein barycentre is an attractive choice as it enables uncertainty amongst the individual distributions to be incorporated into the averaged distribution. When compared to a naive _mean of means_ and _mean of variances_ approach to computing the average probability distributions, it can be seen that Wasserstein barycentres offer significantly more favourable uncertainty estimation."
   ]
  },
  {
   "cell_type": "code",
   "execution_count": null,
   "id": "d072c3d6",
   "metadata": {},
   "outputs": [],
   "source": [
    "import gpjax as gpx\n",
    "import jax\n",
    "import jax.numpy as jnp\n",
    "import jax.random as jr\n",
    "import matplotlib.pyplot as plt\n",
    "import optax as ox\n",
    "import distrax as dx\n",
    "import typing as tp\n",
    "import jax.scipy.linalg as jsl\n",
    "\n",
    "key = jr.PRNGKey(123)"
   ]
  },
  {
   "cell_type": "markdown",
   "id": "417e34f8",
   "metadata": {
    "lines_to_next_cell": 0
   },
   "source": [
    "## Background\n",
    "\n",
    "### Wasserstein distance\n",
    "\n",
    "The 2-Wasserstein distance metric between two probability measures $\\mu$ and $\\nu$ quantifies the minimal cost required to transport the unit mass from $\\mu$ to $\\nu$, or vice-versa. Typically, computing this metric requires solving a linear program. However, when $\\mu$ and $\\nu$ both belong to the family of multivariate Gaussian distributions, the solution is analytically given by\n",
    "$$W_2^2(\\mu, \\nu) = \\lVert m_1- m_2 \\rVert^2_2 + \\operatorname{Tr}(S_1 + S_2 - 2(S_1^{1/2}S_2S_1^{1/2})^{1/2}),$$\n",
    "where $\\mu \\sim \\mathcal{N}(m_1, S_1)$ and $\\nu\\sim\\mathcal{N}(m_2, S_2)$.\n",
    "\n",
    "### Wasserstein barycentre\n",
    "\n",
    "For a collection of $T$ measures $\\lbrace\\mu_i\\rbrace_{t=1}^T \\in \\mathcal{P}_2(\\theta)$, the Wasserstein barycentre $\\bar{\\mu}$ is the measure that minimises the average Wasserstein distance to all other measures in the set. More formally, the Wasserstein barycentre is the Fréchet mean on a Wasserstein space that we can write as\n",
    "$$\\bar{\\mu} = \\operatorname{argmin}_{\\mu\\in\\mathcal{P}_2(\\theta)}\\sum_{t=1}^T \\alpha_t W_2^2(\\mu, \\mu_t),$$\n",
    "where $\\alpha\\in\\bbR^T$ is a weight vector that sums to 1.\n",
    "\n",
    "As with the Wasserstein distance, identifying the Wasserstein barycentre $\\bar{\\mu}$ is often an computationally demanding optimisation problem. However, when all the measures admit a multivariate Gaussian density, the barycentre $\\bar{\\mu} = \\mathcal{N}(\\bar{m}, \\bar{S})$ has analytical solutions\n",
    "$$\\bar{m} = \\sum_{t=1}^T \\alpha_t m_t\\,, \\quad \\bar{S}=\\sum_{t=1}^T\\alpha_t (\\bar{S}^{1/2}S_t\\bar{S}^{1/2})^{1/2}\\,. \\qquad (\\star)$$\n",
    "Identifying $\\bar{S}$ is achieved through a fixed-point iterative update.\n",
    "\n",
    "## Barycentre of Gaussian processes\n",
    "\n",
    "It was shown in <strong data-cite=\"mallasto2017learning\"></strong> that the barycentre $\\bar{f}$ of a collection of Gaussian processes $\\lbrace f_i\\rbrace_{i=1}^T$ such that $f_i \\sim \\mathcal{GP}(m_i, K_i)$ can be found using the same solutions as in $(\\star)$. For a full theoretical understanding, we recommend reading the original paper. However, the central argument to this result is that one can first show that the barycentre GP $\\bar{f}\\sim\\mathcal{GP}(\\bar{m}, \\bar{S})$ is non-degenerate for any finite set of GPs $\\lbrace f_t\\rbrace_{t=1}^T$ i.e., $T<\\infty$. With this established, one can show that for a $n$-dimensional finite Gaussian distribution $f_{i,n}$, the Wasserstein metric between any two Gaussian distributions $f_{i, n}, f_{j, n}$ converges to the Wasserstein metric between GPs as $n\\to\\infty$.\n",
    "\n",
    "In this notebook, we will demonstrate how this can be achieved in GPJax.\n",
    "\n",
    "## Dataset\n",
    "\n",
    "We'll simulate five datasets and develop a Gaussian process posterior before identifying the Gaussian process barycentre at a set of test points. Each dataset will be a sine function with a different vertical shift, periodicity, and quantity of noise."
   ]
  },
  {
   "cell_type": "code",
   "execution_count": null,
   "id": "3d2325d3",
   "metadata": {},
   "outputs": [],
   "source": [
    "n = 100\n",
    "n_test = 200\n",
    "n_datasets = 5\n",
    "\n",
    "x = jnp.linspace(-5.0, 5.0, n).reshape(-1, 1)\n",
    "xtest = jnp.linspace(-5.5, 5.5, n_test).reshape(-1, 1)\n",
    "f = lambda x, a, b: a + jnp.sin(b * x)\n",
    "\n",
    "ys = []\n",
    "for i in range(n_datasets):\n",
    "    key, subkey = jr.split(key)\n",
    "    vertical_shift = jr.uniform(subkey, minval=0.0, maxval=2.0)\n",
    "    period = jr.uniform(subkey, minval=0.75, maxval=1.25)\n",
    "    noise_amount = jr.uniform(subkey, minval=0.01, maxval=0.5)\n",
    "    noise = jr.normal(subkey, shape=x.shape) * noise_amount\n",
    "    ys.append(f(x, vertical_shift, period) + noise)\n",
    "\n",
    "y = jnp.hstack(ys)\n",
    "\n",
    "fig, ax = plt.subplots(figsize=(16, 5))\n",
    "ax.plot(x, y, \"o\")\n",
    "plt.show()"
   ]
  },
  {
   "cell_type": "markdown",
   "id": "67b35114",
   "metadata": {},
   "source": [
    "## Learning a posterior distribution\n",
    "\n",
    "We'll now independently learn Gaussian process posterior distributions for each dataset. We won't spend any time here discussing how GP hyperparameters are optimised. For advice on achieving this, see the [Regression notebook](https://gpjax.readthedocs.io/en/latest/nbs/regression.html) for advice on optimisation and the [Kernels notebook](https://gpjax.readthedocs.io/en/latest/nbs/kernels.html) for advice on selecting an appropriate kernel."
   ]
  },
  {
   "cell_type": "code",
   "execution_count": null,
   "id": "13df4895",
   "metadata": {},
   "outputs": [],
   "source": [
    "def fit_gp(x: jnp.DeviceArray, y: jnp.DeviceArray):\n",
    "    if y.ndim == 1:\n",
    "        y = y.reshape(-1, 1)\n",
    "    D = gpx.Dataset(X=x, y=y)\n",
    "\n",
    "    likelihood = gpx.Gaussian(num_datapoints=n)\n",
    "    posterior = gpx.Prior(kernel=gpx.RBF()) * likelihood\n",
    "\n",
    "    parameter_state = gpx.initialise(posterior, key)\n",
    "    negative_mll = jax.jit(posterior.marginal_log_likelihood(D, negative=True))\n",
    "    optimiser = ox.adam(learning_rate=0.01)\n",
    "\n",
    "    inference_state = gpx.fit(\n",
    "        objective=negative_mll,\n",
    "        parameter_state=parameter_state,\n",
    "        optax_optim=optimiser,\n",
    "        n_iters=1000,\n",
    "    )\n",
    "\n",
    "    learned_params, training_history = inference_state.unpack()\n",
    "    return likelihood(posterior(D, learned_params)(xtest), learned_params)\n",
    "\n",
    "posterior_preds = [fit_gp(x, i) for i in ys]"
   ]
  },
  {
   "cell_type": "markdown",
   "id": "2948aa1e",
   "metadata": {},
   "source": [
    "## Computing the barycentre\n",
    "\n",
    "In GPJax, the predictive distribution of a GP is given by a [Distrax](https://github.com/deepmind/distrax) distribution, making it straightforward to extract the mean vector and covariance matrix of each GP for learning a barycentre. We implement the fixed point scheme given in (3) in the following cell by utilising Jax's `vmap` operator to speed up large matrix operations using broadcasting in `tensordot`."
   ]
  },
  {
   "cell_type": "code",
   "execution_count": null,
   "id": "742c31b4",
   "metadata": {},
   "outputs": [],
   "source": [
    "def sqrtm(A: jnp.DeviceArray):\n",
    "    return jnp.real(jsl.sqrtm(A))\n",
    "\n",
    "\n",
    "def wasserstein_barycentres(distributions: tp.List[dx.Distribution], weights: jnp.DeviceArray):\n",
    "    covariances = [d.covariance() for d in distributions]\n",
    "    cov_stack = jnp.stack(covariances)\n",
    "    stack_sqrt = jax.vmap(sqrtm)(cov_stack)\n",
    "\n",
    "    def step(covariance_candidate: jnp.DeviceArray, i: jnp.DeviceArray):\n",
    "        inner_term = jax.vmap(sqrtm)(\n",
    "            jnp.matmul(jnp.matmul(stack_sqrt, covariance_candidate), stack_sqrt)\n",
    "        )\n",
    "        fixed_point = jnp.tensordot(weights, inner_term, axes=1)\n",
    "        return fixed_point, fixed_point\n",
    "\n",
    "    return step"
   ]
  },
  {
   "cell_type": "markdown",
   "id": "719e6733",
   "metadata": {},
   "source": [
    "With a function defined for learning a barycentre, we'll now compute it using the `lax.scan` operator that drastically speeds up for loops in Jax (see the [Jax documentation](https://jax.readthedocs.io/en/latest/_autosummary/jax.lax.scan.html)). The iterative update will be executed 100 times, with convergence measured by the difference between the previous and current iteration that we can confirm by inspecting the `sequence` array in the following cell."
   ]
  },
  {
   "cell_type": "code",
   "execution_count": null,
   "id": "0cffdb2d",
   "metadata": {},
   "outputs": [],
   "source": [
    "weights = jnp.ones((n_datasets,)) / n_datasets\n",
    "\n",
    "means = jnp.stack([d.mean() for d in posterior_preds])\n",
    "barycentre_mean = jnp.tensordot(weights, means, axes=1)\n",
    "\n",
    "step_fn = jax.jit(wasserstein_barycentres(posterior_preds, weights))\n",
    "initial_covariance = jnp.eye(n_test)\n",
    "\n",
    "barycentre_covariance, sequence = jax.lax.scan(step_fn, initial_covariance, jnp.arange(100))\n",
    "\n",
    "\n",
    "barycentre_process = dx.MultivariateNormalFullCovariance(barycentre_mean, barycentre_covariance)"
   ]
  },
  {
   "cell_type": "markdown",
   "id": "073b8907",
   "metadata": {},
   "source": [
    "## Plotting the result\n",
    "\n",
    "With a barycentre learned, we can visualise the result. We can see that the result looks reasonable as it follows the sinusoidal curve of all the inferred GPs, and the uncertainty bands are sensible."
   ]
  },
  {
   "cell_type": "code",
   "execution_count": null,
   "id": "a8914001",
   "metadata": {},
   "outputs": [],
   "source": [
    "def plot(\n",
    "    dist: dx.Distribution,\n",
    "    ax,\n",
    "    color: str = \"tab:blue\",\n",
    "    label: str = None,\n",
    "    ci_alpha: float = 0.2,\n",
    "    linewidth: float = 1.0,\n",
    "):\n",
    "    mu = dist.mean()\n",
    "    sigma = dist.stddev()\n",
    "    ax.plot(xtest, dist.mean(), linewidth=linewidth, color=color, label=label)\n",
    "    ax.fill_between(xtest.squeeze(), mu - sigma, mu + sigma, alpha=ci_alpha, color=color)\n",
    "\n",
    "\n",
    "fig, ax = plt.subplots(figsize=(16, 5))\n",
    "[plot(d, ax, color=\"tab:blue\", ci_alpha=0.1) for d in posterior_preds]\n",
    "plot(barycentre_process, ax, color=\"tab:red\", label=\"Barycentre\", ci_alpha=0.4, linewidth=2)"
   ]
  },
  {
   "cell_type": "markdown",
   "id": "c34b6e90",
   "metadata": {},
   "source": [
    "## Displacement interpolation\n",
    "\n",
    "In the above example, we assigned uniform weights to each of the posteriors within the barycentre. In practice, we may have prior knowledge of which posterior is most likely to be the correct one. Regardless of the weights chosen, the barycentre remains a Gaussian process. We can interpolate between a pair of posterior distributions $\\mu_1$ and $\\mu_2$ to visualise the corresponding barycentre $\\bar{\\mu}$.\n",
    "\n",
    "![](figs/barycentre_gp.gif)"
   ]
  },
  {
   "cell_type": "markdown",
   "id": "7755a096",
   "metadata": {},
   "source": [
    "## System configuration"
   ]
  },
  {
   "cell_type": "code",
   "execution_count": null,
   "id": "02d130c6",
   "metadata": {},
   "outputs": [],
   "source": [
    "%reload_ext watermark\n",
    "%watermark -n -u -v -iv -w -a 'Thomas Pinder (edited by Daniel Dodd)'"
   ]
  }
 ],
 "metadata": {
  "jupytext": {
   "custom_cell_magics": "kql",
   "encoding": "# -*- coding: utf-8 -*-"
  },
  "kernelspec": {
   "display_name": "Python 3.10.0 ('base')",
   "language": "python",
   "name": "python3"
  },
  "language_info": {
   "codemirror_mode": {
    "name": "ipython",
    "version": 3
   },
   "file_extension": ".py",
   "mimetype": "text/x-python",
   "name": "python",
   "nbconvert_exporter": "python",
   "pygments_lexer": "ipython3",
   "version": "3.10.0"
  },
  "vscode": {
   "interpreter": {
    "hash": "3d597f4c481aa0f25dceb95d2a0067e73c0966dcbd003d741d821a7208527ecf"
   }
  }
 },
 "nbformat": 4,
 "nbformat_minor": 5
}

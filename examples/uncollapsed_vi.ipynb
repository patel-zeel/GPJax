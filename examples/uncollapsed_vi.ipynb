{
 "cells": [
  {
   "cell_type": "markdown",
   "id": "e1fb7ff8",
   "metadata": {},
   "source": [
    "# Sparse Stochastic Variational Inference\n",
    "\n",
    "In this notebook we demonstrate how to implement sparse variational Gaussian processes (SVGPs) of <strong data-cite=\"hensman2013gaussian\">Hensman et al. (2013)</strong>; <strong data-cite=\"hensman2015gaussian\">Hensman et al. (2015)</strong>. In particular, this approximation framework provides a tractable option for working with non-conjugate Gaussian processes with more than ~5000 data points. However, for conjugate models of less than 5000 data points, we recommend using the marginal log-likelihood approach presented in the [regression notebook](https://gpjax.readthedocs.io/en/latest/nbs/regression.html). Though we illustrate SVGPs here with a conjugate regression example, the same GPJax code works for general likelihoods, such as a Bernoulli for classification."
   ]
  },
  {
   "cell_type": "code",
   "execution_count": null,
   "id": "d5822c74",
   "metadata": {},
   "outputs": [],
   "source": [
    "import jax.numpy as jnp\n",
    "import jax.random as jr\n",
    "import matplotlib.pyplot as plt\n",
    "from jax import jit\n",
    "import optax as ox\n",
    "\n",
    "import gpjax as gpx\n",
    "key = jr.PRNGKey(123)"
   ]
  },
  {
   "cell_type": "markdown",
   "id": "e9ec4ffe",
   "metadata": {},
   "source": [
    "## Dataset\n",
    "\n",
    "With the necessary modules imported, we simulate a dataset $\\mathcal{D} = (\\boldsymbol{x}, \\boldsymbol{y}) = \\{(x_i, y_i)\\}_{i=1}^{5000}$ with inputs $\\boldsymbol{x}$ sampled uniformly on $(-5, 5)$ and corresponding binary outputs\n",
    "\n",
    "$$\\boldsymbol{y} \\sim \\mathcal{N} \\left(\\sin(4 * \\boldsymbol{x}) + \\sin(2 * \\boldsymbol{x}), \\textbf{I} * (0.2)^{2} \\right).$$\n",
    "\n",
    "We store our data $\\mathcal{D}$ as a GPJax `Dataset` and create test inputs for later."
   ]
  },
  {
   "cell_type": "code",
   "execution_count": null,
   "id": "6ed39b24",
   "metadata": {
    "lines_to_next_cell": 0
   },
   "outputs": [],
   "source": [
    "n = 5000\n",
    "noise = 0.2\n",
    "\n",
    "x = jr.uniform(key=key, minval=-5.0, maxval=5.0, shape=(n,)).sort().reshape(-1, 1)\n",
    "f = lambda x: jnp.sin(4 * x) + jnp.cos(2 * x)\n",
    "signal = f(x)\n",
    "y = signal + jr.normal(key, shape=signal.shape) * noise\n",
    "\n",
    "D = gpx.Dataset(X=x, y=y)\n",
    "\n",
    "xtest = jnp.linspace(-5.5, 5.5, 500).reshape(-1, 1)"
   ]
  },
  {
   "cell_type": "markdown",
   "id": "8f8bcaa5",
   "metadata": {},
   "source": [
    "## Sparse GPs via inducing inputs\n",
    "\n",
    "Despite their endowment with elegant theoretical properties, GPs are burdened with prohibitive $\\mathcal{O}(n^3)$ inference and $\\mathcal{O}(n^2)$ memory costs in the number of data points $n$ due to the necessity of computing inverses and determinants of the kernel Gram matrix $\\mathbf{K}_{\\boldsymbol{x}\\boldsymbol{x}}$ during inference and hyperparameter learning. \n",
    "Sparse GPs seek to resolve tractability through low-rank approximations. \n",
    "\n",
    "Their name originates with the idea of using subsets of the data to approximate the kernel matrix, with _sparseness_ occurring through the selection of the data points. \n",
    "Given inputs $\\boldsymbol{x}$ and outputs $\\boldsymbol{y}$ the task was to select an $m<n$ lower-dimensional dataset $(\\boldsymbol{z},\\boldsymbol{\\tilde{y}}) \\subset (\\boldsymbol{x}, \\boldsymbol{y})$ to train a Gaussian process on instead. \n",
    "By generalising the set of selected points $\\boldsymbol{z}$, known as _inducing inputs_, to remove the restriction of being part of the dataset, \n",
    "we can arrive at a flexible low-rank approximation framework of the model using functions of $\\mathbf{K}_{\\boldsymbol{z}\\boldsymbol{z}}$ to replace the true covariance matrix $\\mathbf{K}_{\\boldsymbol{x}\\boldsymbol{x}}$ at significantly lower costs. For example, <strong data-cite=\"quinonero-candela2005gaussian\"></strong> review many popular approximation schemes in this vein. However, because the model and the approximation are intertwined, assigning performance and faults to one or the other becomes tricky. \n",
    "\n",
    "On the other hand, sparse variational Gaussian processes (SVGPs) [approximate the posterior, not the model](https://www.secondmind.ai/labs/sparse-gps-approximate-the-posterior-not-the-model/). \n",
    "These provide a low-rank approximation scheme via variational inference. Here we posit a family of densities parameterised by “variational parameters”. \n",
    "We then seek to find the closest family member to the posterior by minimising the Kullback-Leibler divergence over the variational parameters. \n",
    "The fitted variational density then serves as a proxy for the exact posterior. \n",
    "This procedure makes variational methods efficiently solvable via off-the-shelf optimisation techniques whilst retaining the true-underlying model. \n",
    "Furthermore, SVGPs offer further cost reductions with mini-batch stochastic gradient descent  <strong data-cite=\"hensman2013gaussian\"></strong> and address non-conjugacy <strong data-cite=\"hensman2015gaussian\"></strong>. \n",
    "We show a cost comparison between the approaches below, where $b$ is the mini-batch size.\n",
    "\n",
    "\n",
    "\n",
    "|    | GPs | sparse GPs | SVGP |\n",
    "| -- | -- | -- | -- | \n",
    "| Inference cost | $\\mathcal{O}(n^3)$ | $\\mathcal{O}(n m^2)$ | $\\mathcal{O}(b m^2 + m^3)$  | \n",
    "| Memory cost    | $\\mathcal{O}(n^2)$ | $\\mathcal{O}(n m)$ | $\\mathcal{O}(b m + m^2)$ |\n",
    "\n",
    "\n",
    "To apply SVGP inference to our dataset, we begin by initialising $m = 50$ equally spaced inducing inputs $\\boldsymbol{z}$ across our observed data's support. These are depicted below via horizontal black lines."
   ]
  },
  {
   "cell_type": "code",
   "execution_count": null,
   "id": "408de182",
   "metadata": {
    "lines_to_next_cell": 0
   },
   "outputs": [],
   "source": [
    "z = jnp.linspace(-5.0, 5.0, 50).reshape(-1, 1)\n",
    "\n",
    "fig, ax = plt.subplots(figsize=(12, 5))\n",
    "ax.plot(x, y, \"o\", alpha=0.3)\n",
    "ax.plot(xtest, f(xtest))\n",
    "[ax.axvline(x=z_i, color=\"black\", alpha=0.3, linewidth=1) for z_i in z]\n",
    "plt.show()"
   ]
  },
  {
   "cell_type": "markdown",
   "id": "9e296d4f",
   "metadata": {},
   "source": [
    "The inducing inputs will summarise our dataset, and since they are treated as variational parameters, their locations will be optimised. The next step to SVGP is to define a variational family."
   ]
  },
  {
   "cell_type": "markdown",
   "id": "a3731013",
   "metadata": {
    "lines_to_next_cell": 0
   },
   "source": [
    "## Defining the variational process\n",
    "\n",
    "We begin by considering the form of the posterior distribution for all function values $f(\\cdot)$\n",
    "\n",
    "\\begin{align} \n",
    "p(f(\\cdot) | \\mathcal{D}) = \\int p(f(\\cdot)|f(\\boldsymbol{x})) p(f(\\boldsymbol{x})|\\mathcal{D}) \\text{d}f(\\boldsymbol{x}). \\qquad (\\dagger) \n",
    "\\end{align}\n",
    "\n",
    "To arrive at an approximation framework, we assume some redundancy in the data. Instead of predicting $f(\\cdot)$ with function values at the datapoints $f(\\boldsymbol{x})$, we assume this can be achieved with only function values at $m$ inducing inputs $\\boldsymbol{z}$\n",
    "\n",
    "$$ p(f(\\cdot) | \\mathcal{D}) \\approx \\int p(f(\\cdot)|f(\\boldsymbol{z})) p(f(\\boldsymbol{z})|\\mathcal{D}) \\text{d}f(\\boldsymbol{z}). \\qquad (\\star) $$\n",
    "\n",
    "This lower dimensional integral results in computational savings in the model's predictive component from $p(f(\\cdot)|f(\\boldsymbol{x}))$ to $p(f(\\cdot)|f(\\boldsymbol{z}))$ where inverting $\\mathbf{K}_{\\boldsymbol{x}\\boldsymbol{x}}$ is replaced with inverting $\\mathbf{K}_{\\boldsymbol{z}\\boldsymbol{z}}$. \n",
    "However, since we did not observe our data $\\mathcal{D}$ at $\\boldsymbol{z}$ we ask, what exactly is the posterior $p(f(\\boldsymbol{z})|\\mathcal{D})$?\n",
    "\n",
    "Notice this is simply obtained by substituting $\\boldsymbol{z}$ into $(\\dagger)$, but we arrive back at square one with computing the expensive integral. To side-step this, we consider replacing $p(f(\\boldsymbol{z})|\\mathcal{D})$ in $(\\star)$ with a cheap-to-compute approximate distribution $q(f(\\boldsymbol{z}))$\n",
    "\n",
    "  $$ q(f(\\cdot)) = \\int p(f(\\cdot)|f(\\boldsymbol{z})) q(f(\\boldsymbol{z})) \\text{d}f(\\boldsymbol{z}). \\qquad (\\times) $$\n",
    "\n",
    "To measure the quality of the approximation, we consider the Kullback-Leibler divergence $\\operatorname{KL}(\\cdot || \\cdot)$ from our approximate process $q(f(\\cdot))$ to the true process $p(f(\\cdot)|\\mathcal{D})$. By parametrising $q(f(\\boldsymbol{z}))$ over a variational family of distributions, we can optimise Kullback-Leibler divergence with respect to the variational parameters. Moreover, since inducing input locations $\\boldsymbol{z}$ augment the model, they themselves can be treated as variational parameters without altering the true underlying model $p(f(\\boldsymbol{z})|\\mathcal{D})$. This is exactly what gives SVGPs great flexibility whilst retaining robustness to overfitting. \n",
    "\n",
    "It is popular to elect a Gaussian variational distribution $q(f(\\boldsymbol{z})) = \\mathcal{N}(f(\\boldsymbol{z}); \\mathbf{m}, \\mathbf{S})$ with parameters $\\{\\boldsymbol{z}, \\mathbf{m}, \\mathbf{S}\\}$, since conjugacy is provided between $q(f(\\boldsymbol{z}))$ and $p(f(\\cdot)|f(\\boldsymbol{z}))$ so that the resulting variational process $q(f(\\cdot))$ is a GP. We can implement this in GPJax by the following."
   ]
  },
  {
   "cell_type": "code",
   "execution_count": null,
   "id": "5634e153",
   "metadata": {
    "lines_to_next_cell": 0
   },
   "outputs": [],
   "source": [
    "likelihood = gpx.Gaussian(num_datapoints=n)\n",
    "prior = gpx.Prior(kernel=gpx.RBF())\n",
    "p =  prior * likelihood\n",
    "q = gpx.VariationalGaussian(prior=prior, inducing_inputs=z)"
   ]
  },
  {
   "cell_type": "markdown",
   "id": "f6b746e5",
   "metadata": {
    "lines_to_next_cell": 0
   },
   "source": [
    "Here, the variational process $q(\\cdot)$ depends on the prior through $p(f(\\cdot)|f(\\boldsymbol{z}))$ in $(\\times)$."
   ]
  },
  {
   "cell_type": "markdown",
   "id": "5a3d8602",
   "metadata": {},
   "source": [
    "\n",
    "We combine our true and approximate posterior Gaussian processes into an `StochasticVI` object to define the variational strategy that we will adopt in the forthcoming inference."
   ]
  },
  {
   "cell_type": "code",
   "execution_count": null,
   "id": "722e95b7",
   "metadata": {},
   "outputs": [],
   "source": [
    "svgp = gpx.StochasticVI(posterior=p, variational_family=q)"
   ]
  },
  {
   "cell_type": "markdown",
   "id": "f995e95e",
   "metadata": {
    "lines_to_next_cell": 0
   },
   "source": [
    "## Inference\n",
    "\n",
    "### Evidence lower bound\n",
    "\n",
    "With our model defined, we seek to infer the optimal inducing inputs $\\boldsymbol{z}$, variational mean $\\mathbf{m}$ and covariance $\\mathbf{S}$ that define our approximate posterior. To achieve this, we maximise the evidence lower bound (ELBO) with respect to $\\{\\boldsymbol{z}, \\mathbf{m}, \\mathbf{S} \\}$, a proxy for minimising the Kullback-Leibler divergence. Moreover, as hinted by its name, the ELBO is a lower bound to the marginal log-likelihood, providing a tractable objective to optimise the model's hyperparameters akin to the conjugate setting. For further details on this, see Sections 3.1 and 4.1 of the excellent review paper <strong data-cite=\"leibfried2020tutorial\"></strong>.\n",
    "\n",
    "Since Optax's optimisers work to minimise functions, to maximise the ELBO we return its negative."
   ]
  },
  {
   "cell_type": "code",
   "execution_count": null,
   "id": "5406eeb2",
   "metadata": {},
   "outputs": [],
   "source": [
    "negative_elbo = jit(svgp.elbo(D, negative=True))"
   ]
  },
  {
   "cell_type": "markdown",
   "id": "00d5b8c7",
   "metadata": {},
   "source": [
    "### Mini-batching\n",
    "\n",
    "Despite introducing inducing inputs into our model, inference can still be intractable with large datasets. To circumvent this, optimisation can be done using stochastic mini-batches."
   ]
  },
  {
   "cell_type": "code",
   "execution_count": null,
   "id": "c985c68a",
   "metadata": {
    "lines_to_next_cell": 0
   },
   "outputs": [],
   "source": [
    "parameter_state = gpx.initialise(svgp, key)\n",
    "optimiser = ox.adam(learning_rate=0.01)\n",
    "\n",
    "inference_state = gpx.fit_batches(\n",
    "    objective = negative_elbo,\n",
    "    parameter_state= parameter_state,\n",
    "    train_data = D, \n",
    "    optax_optim = optimiser,\n",
    "    n_iters=4000,\n",
    "    key = jr.PRNGKey(42),\n",
    "    batch_size= 128,\n",
    ")\n",
    "\n",
    "learned_params, training_history = inference_state.unpack()"
   ]
  },
  {
   "cell_type": "markdown",
   "id": "61fe35d1",
   "metadata": {},
   "source": [
    "## Predictions\n",
    "\n",
    "With optimisation complete, we can use our inferred parameter set to make predictions at novel inputs akin \n",
    "to all other models within GPJax on our variational process object $q(\\cdot)$ (for example, see the [regression notebook](https://gpjax.readthedocs.io/en/latest/nbs/regression.html))."
   ]
  },
  {
   "cell_type": "code",
   "execution_count": null,
   "id": "ee6beb66",
   "metadata": {},
   "outputs": [],
   "source": [
    "latent_dist = q(learned_params)(xtest)\n",
    "predictive_dist = likelihood(latent_dist, learned_params)\n",
    "\n",
    "meanf = predictive_dist.mean()\n",
    "sigma = predictive_dist.stddev()\n",
    "\n",
    "fig, ax = plt.subplots(figsize=(12, 5))\n",
    "ax.plot(x, y, \"o\", alpha=0.15, label=\"Training Data\", color=\"tab:gray\")\n",
    "ax.plot(xtest, meanf, label=\"Posterior mean\", color=\"tab:blue\")\n",
    "ax.fill_between(xtest.flatten(), meanf - sigma, meanf + sigma, alpha=0.3)\n",
    "[\n",
    "    ax.axvline(x=z_i, color=\"black\", alpha=0.3, linewidth=1)\n",
    "    for z_i in learned_params[\"variational_family\"][\"inducing_inputs\"]\n",
    "]\n",
    "plt.show()"
   ]
  },
  {
   "cell_type": "markdown",
   "id": "52130aed",
   "metadata": {},
   "source": [
    "## System configuration"
   ]
  },
  {
   "cell_type": "code",
   "execution_count": null,
   "id": "94230927",
   "metadata": {},
   "outputs": [],
   "source": [
    "%reload_ext watermark\n",
    "%watermark -n -u -v -iv -w -a 'Thomas Pinder & Daniel Dodd'"
   ]
  }
 ],
 "metadata": {
  "jupytext": {
   "custom_cell_magics": "kql"
  },
  "kernelspec": {
   "display_name": "Python 3.10.0 ('base')",
   "language": "python",
   "name": "python3"
  },
  "language_info": {
   "codemirror_mode": {
    "name": "ipython",
    "version": 3
   },
   "file_extension": ".py",
   "mimetype": "text/x-python",
   "name": "python",
   "nbconvert_exporter": "python",
   "pygments_lexer": "ipython3",
   "version": "3.10.0"
  },
  "vscode": {
   "interpreter": {
    "hash": "3d597f4c481aa0f25dceb95d2a0067e73c0966dcbd003d741d821a7208527ecf"
   }
  }
 },
 "nbformat": 4,
 "nbformat_minor": 5
}

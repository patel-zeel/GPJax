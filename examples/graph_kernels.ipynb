{
 "cells": [
  {
   "cell_type": "markdown",
   "id": "d6d42fd0",
   "metadata": {},
   "source": [
    "# Graph Kernels\n",
    "\n",
    "This notebook demonstrates how regression models can be constructed on the vertices of a graph using a Gaussian process with a Matérn kernel presented in  <strong data-cite=\"borovitskiy2021matern\"></strong>. For a general discussion of the kernels supported within GPJax, see the [kernels notebook](https://gpjax.readthedocs.io/en/latest/nbs/kernels.html)."
   ]
  },
  {
   "cell_type": "code",
   "execution_count": null,
   "id": "52c2c498",
   "metadata": {},
   "outputs": [],
   "source": [
    "import random\n",
    "\n",
    "import jax.numpy as jnp\n",
    "import jax.random as jr\n",
    "import matplotlib.pyplot as plt\n",
    "import networkx as nx\n",
    "import optax as ox\n",
    "from jax import jit\n",
    "\n",
    "import gpjax as gpx\n",
    "\n",
    "key = jr.PRNGKey(123)"
   ]
  },
  {
   "cell_type": "markdown",
   "id": "22635dc1",
   "metadata": {},
   "source": [
    "## Graph construction\n",
    "\n",
    "Our graph $\\mathcal{G}=\\lbrace V, E \\rbrace$ comprises a set of vertices $V = \\lbrace v_1, v_2, \\ldots, v_n\\rbrace$ and edges $E=\\lbrace (v_i, v_j)\\in V \\ : \\ i \\neq j\\rbrace$. In particular, we will consider a [barbell graph](https://en.wikipedia.org/wiki/Barbell_graph) that is an undirected graph containing two clusters of vertices with a single shared edge between the two clusters.\n",
    "\n",
    "Contrary to the typical barbell graph, we'll randomly remove a subset of 30 edges within each of the two clusters. Given the 40 vertices within the graph, this results in 351 edges as shown below."
   ]
  },
  {
   "cell_type": "code",
   "execution_count": null,
   "id": "619f09b7",
   "metadata": {},
   "outputs": [],
   "source": [
    "vertex_per_side = 20\n",
    "n_edges_to_remove = 30\n",
    "p = 0.8\n",
    "\n",
    "G = nx.barbell_graph(vertex_per_side, 0)\n",
    "\n",
    "random.seed(123)\n",
    "[G.remove_edge(*i) for i in random.sample(list(G.edges), n_edges_to_remove)]\n",
    "\n",
    "pos = nx.spring_layout(G, seed=123)  # positions for all nodes\n",
    "\n",
    "nx.draw(G, pos, node_color=\"tab:blue\", with_labels=False, alpha=0.5)"
   ]
  },
  {
   "cell_type": "markdown",
   "id": "85851d00",
   "metadata": {},
   "source": [
    "\n",
    "### Computing the graph Laplacian\n",
    "\n",
    "Graph kernels use the _Laplacian matrix_ $L$ to quantify the smoothness of a signal (or function) on a graph\n",
    "$$L=D-A,$$\n",
    "where $D$ is the diagonal _degree matrix_ containing each vertices' degree and $A$ is the _adjacency matrix_ that has an $(i,j)^{\\text{th}}$ entry of 1 if $v_i, v_j$ are connected and 0 otherwise. [Networkx](https://networkx.org) gives us an easy way to compute this."
   ]
  },
  {
   "cell_type": "code",
   "execution_count": null,
   "id": "51458854",
   "metadata": {},
   "outputs": [],
   "source": [
    "L = nx.laplacian_matrix(G).toarray()"
   ]
  },
  {
   "cell_type": "markdown",
   "id": "8a210c2b",
   "metadata": {},
   "source": [
    "\n",
    "## Simulating a signal on the graph\n",
    "\n",
    "Our task is to construct a Gaussian process $f(\\cdot)$ that maps from the graph's vertex set $V$ onto the real line.\n",
    "To that end, we begin by simulating a signal on the graph's vertices that we will go on to try and predict.\n",
    "We use a single draw from a Gaussian process prior to draw our response values $\\boldsymbol{y}$ where we hardcode parameter values.\n",
    "The corresponding input value set for this model, denoted $\\boldsymbol{x}$, is the index set of the graph's vertices."
   ]
  },
  {
   "cell_type": "code",
   "execution_count": null,
   "id": "8963abbc",
   "metadata": {},
   "outputs": [],
   "source": [
    "x = jnp.arange(G.number_of_nodes()).reshape(-1, 1)\n",
    "\n",
    "kernel = gpx.GraphKernel(laplacian=L)\n",
    "prior = gpx.Prior(kernel=kernel)\n",
    "\n",
    "true_params = prior._initialise_params(key)\n",
    "true_params[\"kernel\"] = {\n",
    "    \"lengthscale\": jnp.array(2.3),\n",
    "    \"variance\": jnp.array(3.2),\n",
    "    \"smoothness\": jnp.array(6.1),\n",
    "}\n",
    "\n",
    "fx = prior(true_params)(x)\n",
    "y = fx.sample(seed=key).reshape(-1, 1)\n",
    "\n",
    "D = gpx.Dataset(X=x, y=y)"
   ]
  },
  {
   "cell_type": "markdown",
   "id": "b37aa18d",
   "metadata": {
    "lines_to_next_cell": 0
   },
   "source": [
    "\n",
    "We can visualise this signal in the following cell."
   ]
  },
  {
   "cell_type": "code",
   "execution_count": null,
   "id": "051aa157",
   "metadata": {},
   "outputs": [],
   "source": [
    "nx.draw(G, pos, node_color=y, with_labels=False, alpha=0.5)\n",
    "\n",
    "vmin, vmax = y.min(), y.max()\n",
    "sm = plt.cm.ScalarMappable(cmap=plt.cm.viridis, norm=plt.Normalize(vmin=vmin, vmax=vmax))\n",
    "sm.set_array([])\n",
    "cbar = plt.colorbar(sm)"
   ]
  },
  {
   "cell_type": "markdown",
   "id": "0d626706",
   "metadata": {},
   "source": [
    "\n",
    "## Constructing a graph Gaussian process\n",
    "\n",
    "With our dataset created, we proceed to define our posterior Gaussian process and optimise the model's hyperparameters.\n",
    "Whilst our underlying space is the graph's vertex set and is therefore non-Euclidean, our likelihood is still Gaussian and the model is still conjugate.\n",
    "For this reason, we simply perform gradient descent on the GP's marginal log-likelihood term as in the [regression notebook](https://gpjax.readthedocs.io/en/latest/nbs/regression.html). We do this using the Adam optimiser provided in `optax`."
   ]
  },
  {
   "cell_type": "code",
   "execution_count": null,
   "id": "f17def6f",
   "metadata": {},
   "outputs": [],
   "source": [
    "likelihood = gpx.Gaussian(num_datapoints=y.shape[0])\n",
    "posterior = prior * likelihood\n",
    "\n",
    "\n",
    "parameter_state = gpx.initialise(posterior, key)\n",
    "negative_mll = jit(posterior.marginal_log_likelihood(train_data=D, negative=True))\n",
    "optimiser = ox.adam(learning_rate=0.01)\n",
    "\n",
    "inference_state = gpx.fit(\n",
    "    objective=negative_mll,\n",
    "    parameter_state=parameter_state,\n",
    "    optax_optim=optimiser,\n",
    "    n_iters=1000,\n",
    ")\n",
    "\n",
    "learned_params, training_history = inference_state.unpack()"
   ]
  },
  {
   "cell_type": "markdown",
   "id": "f9356656",
   "metadata": {
    "lines_to_next_cell": 0
   },
   "source": [
    "\n",
    "## Making predictions\n",
    "\n",
    "Having optimised our hyperparameters, we can now make predictions on the graph.\n",
    "Though we haven't defined a training and testing dataset here, we'll simply query the predictive posterior for the full graph to compare the root-mean-squared error (RMSE) of the model for the initialised parameters vs the optimised set."
   ]
  },
  {
   "cell_type": "code",
   "execution_count": null,
   "id": "d5fbc80c",
   "metadata": {},
   "outputs": [],
   "source": [
    "initial_params = parameter_state.params\n",
    "initial_dist = likelihood(posterior(D, initial_params)(x), initial_params)\n",
    "predictive_dist = likelihood(posterior(D, learned_params)(x), learned_params)\n",
    "\n",
    "initial_mean = initial_dist.mean()\n",
    "learned_mean = predictive_dist.mean()\n",
    "\n",
    "rmse = lambda ytrue, ypred: jnp.sum(jnp.sqrt(jnp.square(ytrue - ypred)))\n",
    "\n",
    "initial_rmse = jnp.sum(jnp.sqrt(jnp.square(y.squeeze() - initial_mean)))\n",
    "learned_rmse = jnp.sum(jnp.sqrt(jnp.square(y.squeeze() - learned_mean)))\n",
    "print(\n",
    "    f\"RMSE with initial parameters: {initial_rmse: .2f}\\nRMSE with learned parameters:\"\n",
    "    f\" {learned_rmse: .2f}\"\n",
    ")"
   ]
  },
  {
   "cell_type": "markdown",
   "id": "6df7bf4d",
   "metadata": {
    "lines_to_next_cell": 0
   },
   "source": [
    "\n",
    "We can also plot the source of error in our model's predictions on the graph by the following."
   ]
  },
  {
   "cell_type": "code",
   "execution_count": null,
   "id": "34dbe169",
   "metadata": {
    "lines_to_next_cell": 0
   },
   "outputs": [],
   "source": [
    "error = jnp.abs(learned_mean - y.squeeze())\n",
    "\n",
    "nx.draw(G, pos, node_color=error, with_labels=False, alpha=0.5)\n",
    "\n",
    "vmin, vmax = error.min(), error.max()\n",
    "sm = plt.cm.ScalarMappable(cmap=plt.cm.viridis, norm=plt.Normalize(vmin=vmin, vmax=vmax))\n",
    "sm.set_array([])\n",
    "cbar = plt.colorbar(sm)"
   ]
  },
  {
   "cell_type": "markdown",
   "id": "f42f2e95",
   "metadata": {},
   "source": [
    "\n",
    "Reassuringly, our model seems to provide equally good predictions in each cluster."
   ]
  },
  {
   "cell_type": "markdown",
   "id": "902a8625",
   "metadata": {},
   "source": [
    "## System configuration"
   ]
  },
  {
   "cell_type": "code",
   "execution_count": null,
   "id": "1a1f28c3",
   "metadata": {},
   "outputs": [],
   "source": [
    "%reload_ext watermark\n",
    "%watermark -n -u -v -iv -w -a 'Thomas Pinder (edited by Daniel Dodd)'"
   ]
  }
 ],
 "metadata": {
  "jupytext": {
   "custom_cell_magics": "kql",
   "encoding": "# -*- coding: utf-8 -*-"
  },
  "kernelspec": {
   "display_name": "Python 3.10.0 ('base')",
   "language": "python",
   "name": "python3"
  },
  "language_info": {
   "codemirror_mode": {
    "name": "ipython",
    "version": 3
   },
   "file_extension": ".py",
   "mimetype": "text/x-python",
   "name": "python",
   "nbconvert_exporter": "python",
   "pygments_lexer": "ipython3",
   "version": "3.10.0"
  },
  "vscode": {
   "interpreter": {
    "hash": "3d597f4c481aa0f25dceb95d2a0067e73c0966dcbd003d741d821a7208527ecf"
   }
  }
 },
 "nbformat": 4,
 "nbformat_minor": 5
}
